{
 "cells": [
  {
   "cell_type": "code",
   "execution_count": null,
   "id": "5b32cb3b-5322-488a-953e-575d14827796",
   "metadata": {},
   "outputs": [],
   "source": [
    "a=int(input(\"Enter 1st no \"));\n",
    "b=int(input(\"Enter 2nd no \"));\n",
    "c=a+b;\n",
    "print(c);"
   ]
  },
  {
   "cell_type": "code",
   "execution_count": null,
   "id": "bd35d9e9-582a-4b25-b58d-44f908e9ff12",
   "metadata": {},
   "outputs": [],
   "source": [
    "message=\"\"\"\n",
    "Twinkle Twinkle,little star\n",
    "        How I wonder what you are!\n",
    "            Up above the what so high,\n",
    "            Like a diamond in the sky.\n",
    "Twinkle twinkle,little star,\n",
    "        How I wonder what you are!  \n",
    "        \"\"\"\n",
    "print(message);"
   ]
  },
  {
   "cell_type": "code",
   "execution_count": null,
   "id": "e08b9c63-3b68-4d85-9ad4-7ecd2102f291",
   "metadata": {},
   "outputs": [],
   "source": [
    "import datetime\n",
    "now=datetime.datetime.now();\n",
    "print(\"Current date and time is:\")\n",
    "print(now.strftime(\"%y-%m-%d %H:%M:%S\"))"
   ]
  },
  {
   "cell_type": "code",
   "execution_count": null,
   "id": "141a9b68-2409-43b5-b0da-f6ad48890b76",
   "metadata": {},
   "outputs": [],
   "source": [
    "import sys\n",
    "print(\"System Version\")\n",
    "print(sys.version)\n",
    "print(\"Version info\")\n",
    "print(sys.version_info)"
   ]
  },
  {
   "cell_type": "code",
   "execution_count": null,
   "id": "44d3ee3d-7a52-4b75-b78c-af52b58059c2",
   "metadata": {},
   "outputs": [],
   "source": [
    "import math\n",
    "radius=float(input(\"Enter the radius\"))\n",
    "area=math.pi*radius*radius\n",
    "print(\"Area of the circle is = {0}\".format(area))\n"
   ]
  },
  {
   "cell_type": "code",
   "execution_count": null,
   "id": "dcd3bf00-702e-4135-81c9-1017d067c3c3",
   "metadata": {},
   "outputs": [],
   "source": [
    "f_Name=input(\"Enter your first name:\")\n",
    "l_Name=input(\"Enter your last name:\")\n",
    "print( l_Name + \" \" + f_Name)\n"
   ]
  }
 ],
 "metadata": {
  "kernelspec": {
   "display_name": "Python 3 (ipykernel)",
   "language": "python",
   "name": "python3"
  },
  "language_info": {
   "codemirror_mode": {
    "name": "ipython",
    "version": 3
   },
   "file_extension": ".py",
   "mimetype": "text/x-python",
   "name": "python",
   "nbconvert_exporter": "python",
   "pygments_lexer": "ipython3",
   "version": "3.9.7"
  }
 },
 "nbformat": 4,
 "nbformat_minor": 5
}
